{
 "cells": [
  {
   "cell_type": "markdown",
   "id": "1569b458",
   "metadata": {},
   "source": [
    "# ICP Assignment-1\n",
    "CS 5720 Neural Network & Deep Learning\n",
    "700735513, Satya Ishyanth Kadali"
   ]
  },
  {
   "cell_type": "code",
   "execution_count": 1,
   "id": "a8d85bf5",
   "metadata": {},
   "outputs": [
    {
     "name": "stdout",
     "output_type": "stream",
     "text": [
      "Enter the string: python\n",
      "ntyp\n"
     ]
    }
   ],
   "source": [
    "#Taking string from user input\n",
    "\n",
    "str1=input(\"Enter the string: \")\n",
    "\n",
    "str1=str1.replace('h', '')\n",
    "str1=str1.replace('o', '')\n",
    "\n",
    "str1 = str1[::-1]\n",
    "print(str1)"
   ]
  },
  {
   "cell_type": "code",
   "execution_count": 6,
   "id": "d59635bf",
   "metadata": {},
   "outputs": [
    {
     "name": "stdout",
     "output_type": "stream",
     "text": [
      "Enter any number: 56\n",
      "Enter any number: 23\n",
      "The input numbers are: 56 23\n",
      "Addition result is 79\n",
      "Subtraction result is 33\n",
      "Multiplication result is 1288\n",
      "Division result is 2.4347826086956523\n"
     ]
    }
   ],
   "source": [
    "#Arithmetic operations\n",
    "\n",
    "x=int(input(\"Enter any number: \"))\n",
    "y=int(input(\"Enter any number: \"))\n",
    "\n",
    "print(\"The input numbers are:\",x,y)\n",
    "print(\"Addition result is\",x+y)\n",
    "print(\"Subtraction result is\",x-y)\n",
    "print(\"Multiplication result is\",x*y)\n",
    "print(\"Division result is\",x/y)"
   ]
  },
  {
   "cell_type": "code",
   "execution_count": 3,
   "id": "ca82ac25",
   "metadata": {},
   "outputs": [
    {
     "name": "stdout",
     "output_type": "stream",
     "text": [
      "Enter the string: I love python\n",
      "I love pythons\n"
     ]
    }
   ],
   "source": [
    "#Question 2\n",
    "str2= input(\"Enter the string: \")\n",
    "\n",
    "str2=str2.replace('python', 'pythons')\n",
    "print(str2)"
   ]
  },
  {
   "cell_type": "code",
   "execution_count": 4,
   "id": "18bf6816",
   "metadata": {},
   "outputs": [
    {
     "name": "stdout",
     "output_type": "stream",
     "text": [
      "Enter the marks 96\n",
      "The grade is A\n"
     ]
    }
   ],
   "source": [
    "#Question 3\n",
    "score =int(input(\"Enter the marks \"))\n",
    "if score >= 90: print(\"The grade is A\")\n",
    "elif score >= 80: print(\"The grade is B\")\n",
    "elif score >= 70: print(\"The grade is C\")\n",
    "elif score >= 60: print(\"The grade is D\")\n",
    "else : print(\"The grade is E\")"
   ]
  },
  {
   "cell_type": "code",
   "execution_count": 5,
   "id": "634841a3",
   "metadata": {},
   "outputs": [
    {
     "name": "stdout",
     "output_type": "stream",
     "text": [
      "Total Assignments marks: 1160\n",
      "Total Quiz marks: 186\n",
      "Journal club marks: 95\n",
      "Project marks: 92\n",
      "Total Exam marks: 189\n",
      "94.475\n",
      "The grade is A\n"
     ]
    }
   ],
   "source": [
    "#Question 3 Grading\n",
    "assign = int(input(\"Total Assignments marks: \"))\n",
    "quiz = int(input(\"Total Quiz marks: \"))\n",
    "jour = int(input(\"Journal club marks: \"))\n",
    "pro = int(input(\"Project marks: \"))\n",
    "exam = int(input(\"Total Exam marks: \"))\n",
    "\n",
    "assign = ((assign*100)/1200)*0.30\n",
    "quiz = ((quiz*100)/200)*0.05\n",
    "jour = jour*0.05\n",
    "pro = pro*0.25\n",
    "exam = ((exam*100)/200)*0.35\n",
    "\n",
    "score = (assign+quiz+jour+pro+exam)\n",
    "print(score)\n",
    "\n",
    "if score >= 90: print(\"The grade is A\")\n",
    "elif score >= 80: print(\"The grade is B\")\n",
    "elif score >= 70: print(\"The grade is C\")\n",
    "elif score >= 60: print(\"The grade is D\")\n",
    "else : print(\"The grade is E\")\n",
    "\n",
    " "
   ]
  }
 ],
 "metadata": {
  "kernelspec": {
   "display_name": "Python 3 (ipykernel)",
   "language": "python",
   "name": "python3"
  },
  "language_info": {
   "codemirror_mode": {
    "name": "ipython",
    "version": 3
   },
   "file_extension": ".py",
   "mimetype": "text/x-python",
   "name": "python",
   "nbconvert_exporter": "python",
   "pygments_lexer": "ipython3",
   "version": "3.9.7"
  }
 },
 "nbformat": 4,
 "nbformat_minor": 5
}
